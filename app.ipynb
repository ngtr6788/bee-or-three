{
 "cells": [
  {
   "cell_type": "code",
   "execution_count": null,
   "metadata": {},
   "outputs": [],
   "source": [
    "#|default_exp app"
   ]
  },
  {
   "cell_type": "code",
   "execution_count": null,
   "metadata": {},
   "outputs": [],
   "source": [
    "#|export\n",
    "from fastai.vision.all import *\n",
    "from duckduckgo_search import DDGS\n",
    "from fastdownload import download_url\n",
    "import gradio as gr"
   ]
  },
  {
   "cell_type": "code",
   "execution_count": null,
   "metadata": {},
   "outputs": [],
   "source": [
    "#|export\n",
    "learn = load_learner('model.pkl')"
   ]
  },
  {
   "cell_type": "code",
   "execution_count": null,
   "metadata": {},
   "outputs": [],
   "source": [
    "def search_images(term, max_images=30):\n",
    "  return L(DDGS().images(term, max_results=max_images)).itemgot('image')"
   ]
  },
  {
   "cell_type": "code",
   "execution_count": null,
   "metadata": {},
   "outputs": [],
   "source": [
    "category = \"bee\"\n",
    "dest = f\"./{category}.jpg\"\n",
    "url, = search_images(f\"image of a {category}\", max_images=1)\n",
    "download_url(url, dest)\n",
    "resize_image(dest, dest=\".\", max_size=256)\n",
    "im = PILImage.create(dest)\n",
    "im"
   ]
  },
  {
   "cell_type": "code",
   "execution_count": null,
   "metadata": {},
   "outputs": [],
   "source": [
    "learn.predict(im)"
   ]
  },
  {
   "cell_type": "code",
   "execution_count": null,
   "metadata": {},
   "outputs": [],
   "source": [
    "#|export\n",
    "categories = (\"bee\", \"humvee\", \"three\", \"tree\")\n",
    "def classify_image(img):\n",
    "    classification_probs = learn.predict(img)[2]\n",
    "    return dict(zip(categories, map(float, classification_probs)))"
   ]
  },
  {
   "cell_type": "code",
   "execution_count": null,
   "metadata": {},
   "outputs": [],
   "source": [
    "#|export\n",
    "image = gr.Image()\n",
    "label = gr.Label()\n",
    "examples = [\"bee.jpg\", \"humvee.jpg\", \"three.jpg\", \"tree.jpg\"]\n",
    "\n",
    "demo = gr.Interface(fn=classify_image, inputs=image, outputs=label, examples=examples)\n",
    "demo.launch()"
   ]
  },
  {
   "cell_type": "code",
   "execution_count": 59,
   "metadata": {},
   "outputs": [],
   "source": [
    "from nbdev.export import nb_export\n",
    "nb_export(\"app.ipynb\", \".\")"
   ]
  }
 ],
 "metadata": {
  "kernelspec": {
   "display_name": "bee-or-three-jOM-MOio-py3.10",
   "language": "python",
   "name": "python3"
  },
  "language_info": {
   "codemirror_mode": {
    "name": "ipython",
    "version": 3
   },
   "file_extension": ".py",
   "mimetype": "text/x-python",
   "name": "python",
   "nbconvert_exporter": "python",
   "pygments_lexer": "ipython3",
   "version": "3.10.12"
  }
 },
 "nbformat": 4,
 "nbformat_minor": 2
}
